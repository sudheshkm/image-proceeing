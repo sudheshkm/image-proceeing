{
  "nbformat": 4,
  "nbformat_minor": 0,
  "metadata": {
    "colab": {
      "provenance": []
    },
    "kernelspec": {
      "name": "python3",
      "display_name": "Python 3"
    },
    "language_info": {
      "name": "python"
    }
  },
  "cells": [
    {
      "cell_type": "code",
      "execution_count": null,
      "metadata": {
        "id": "PadILGUn02BE"
      },
      "outputs": [],
      "source": [
        "import cv2\n",
        "import os\n",
        "import numpy as np\n",
        "from google.colab import drive\n",
        "import glob"
      ]
    },
    {
      "cell_type": "code",
      "source": [
        "from tensorflow.keras.preprocessing.image import ImageDataGenerator, load_img, img_to_array, array_to_img"
      ],
      "metadata": {
        "id": "ETaQffONO0xm"
      },
      "execution_count": null,
      "outputs": []
    },
    {
      "cell_type": "code",
      "source": [
        "# Mount Google Drive (if your data is stored there)\n",
        "from google.colab import drive\n",
        "drive.mount('/content/drive')"
      ],
      "metadata": {
        "id": "JieYQhGj08vn",
        "colab": {
          "base_uri": "https://localhost:8080/"
        },
        "outputId": "ea75cf6f-bef1-4917-ace3-c2684b509e51"
      },
      "execution_count": null,
      "outputs": [
        {
          "output_type": "stream",
          "name": "stdout",
          "text": [
            "Drive already mounted at /content/drive; to attempt to forcibly remount, call drive.mount(\"/content/drive\", force_remount=True).\n"
          ]
        }
      ]
    },
    {
      "cell_type": "code",
      "source": [
        "# Define the source and destination folders\n",
        "source_folder = '/content/drive/MyDrive/Workshop/sample'\n",
        "destination_folder = '/content/drive/MyDrive/Workshop/sample_out'\n",
        "Aug_image_array_list = []\n",
        "# Create the destination folder if it doesn't exist\n",
        "os.makedirs(destination_folder, exist_ok=True)\n",
        "\n",
        "# Function to rotate and save images\n",
        "def rotate_and_save_images(source_folder, destination_folder, angle_degrees):\n",
        "    # List all files in the source folder\n",
        "    file_list = os.listdir(source_folder)\n",
        "\n",
        "    for filename in file_list:\n",
        "        if filename.endswith(('.jpg', '.jpeg', '.png', '.bmp', '.gif')):\n",
        "            # Read the image\n",
        "            image_path = os.path.join(source_folder, filename)\n",
        "            img = cv2.imread('/content/drive/MyDrive/Workshop/sample/apple_group.jpeg')\n",
        "            # Define the desired dimensions for augmentation\n",
        "            new_width, new_height = 224, 224\n",
        "\n",
        "# Resize the image using a specific interpolation method (e.g., BILINEAR)\n",
        "            resized_image = cv2.resize(img, (new_width, new_height), interpolation=cv2.INTER_LINEAR)\n",
        "            if img is not None:\n",
        "                # Rotate the image by the specified angle\n",
        "                rotated_img = cv2.rotate(img, cv2.ROTATE_90_CLOCKWISE)  # Change the rotation angle as needed\n",
        "                V_flipped_image = cv2.flip(img, 0)\n",
        "                H_flipped_image = cv2.flip(resized_image, 1)\n",
        "                rotated_img2 = cv2.rotate(img, cv2.ROTATE_90_COUNTERCLOCKWISE)\n",
        "\n",
        "\n",
        "                Aug_image_array_list.append(V_flipped_image)\n",
        "                Aug_image_array_list.append(H_flipped_image)\n",
        "                Aug_image_array_list.append(rotated_img)\n",
        "                Aug_image_array_list.append(rotated_img2)\n",
        "\n",
        "\n",
        "\n",
        "rotate_and_save_images(source_folder, destination_folder, angle_degrees=90)  # Adjust the angle as needed\n"
      ],
      "metadata": {
        "id": "D970lX1dSaKs"
      },
      "execution_count": null,
      "outputs": []
    },
    {
      "cell_type": "code",
      "source": [
        "print(img)"
      ],
      "metadata": {
        "id": "NzgVx15LwLYr"
      },
      "execution_count": null,
      "outputs": []
    },
    {
      "cell_type": "code",
      "source": [
        "for i, image_array in enumerate(Aug_image_array_list):\n",
        "    # Construct the filename (e.g., image0.jpg, image1.jpg, etc.)\n",
        "    filename = f'image{i}.jpg'\n",
        "\n",
        "    # Construct the destination path\n",
        "    destination_path = os.path.join(destination_folder, filename)\n",
        "\n",
        "    # Save the image using cv2.imwrite\n",
        "    cv2.imwrite(destination_path, image_array)"
      ],
      "metadata": {
        "id": "tcsfzZRPmKW4"
      },
      "execution_count": null,
      "outputs": []
    },
    {
      "cell_type": "code",
      "source": [
        "print(f'Saved {len(Aug_image_array_list)} images to {destination_folder}')"
      ],
      "metadata": {
        "colab": {
          "base_uri": "https://localhost:8080/"
        },
        "id": "O1_TP71Vku4n",
        "outputId": "7bfb7d3b-28d7-4d89-c84d-cb6407037e63"
      },
      "execution_count": null,
      "outputs": [
        {
          "output_type": "stream",
          "name": "stdout",
          "text": [
            "Saved 0 images to /content/drive/MyDrive/Workshop/sample_out/\n"
          ]
        }
      ]
    }
  ]
}